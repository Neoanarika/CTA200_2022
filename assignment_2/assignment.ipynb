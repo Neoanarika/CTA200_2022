{
 "cells": [
  {
   "cell_type": "code",
   "execution_count": 1,
   "metadata": {},
   "outputs": [],
   "source": [
    "import numpy as np\n",
    "from sympy import *"
   ]
  },
  {
   "cell_type": "markdown",
   "metadata": {},
   "source": [
    "## Question 1"
   ]
  },
  {
   "cell_type": "code",
   "execution_count": 9,
   "metadata": {},
   "outputs": [],
   "source": [
    "## Question 1\n",
    "\n",
    "f = lambda x: x**3 - x**2 - 1\n",
    "df = lambda x: 3*x**2 - 2*x"
   ]
  },
  {
   "cell_type": "markdown",
   "metadata": {},
   "source": [
    "## Question 2"
   ]
  },
  {
   "cell_type": "code",
   "execution_count": 17,
   "metadata": {},
   "outputs": [],
   "source": [
    "def newton(func, dfunc, x0, epsilon=1e-6, max_iter = 30):\n",
    "    \"\"\" \n",
    "    Performs Newton method to return a root of the function func\n",
    "\n",
    "    Parameters\n",
    "    ----------\n",
    "    func : function\n",
    "        The python function we are running Newton method over. \n",
    "    dfunc : function\n",
    "        The derivative of function func in python.\n",
    "    x0: float\n",
    "        The intial value of x we are using to run Newton method\n",
    "    epsilon: float \n",
    "        The maximum accepted error\n",
    "    max_iter: integer \n",
    "        The maximum number of iterations\n",
    "    \n",
    "    Returns\n",
    "    -------\n",
    "    float or None\n",
    "        A floating point estimate of the root of the function func or None when one of the iteration fails i.e f(x_max_iter) >= epsilon. \n",
    "    \"\"\"\n",
    "    x = x0\n",
    "    for i in range(max_iter):\n",
    "        if abs(func(x)) < epsilon:\n",
    "            print(f\"Found root in {i} iterations\")\n",
    "            return x\n",
    "        else:\n",
    "            x -= func(x)/dfunc(x)\n",
    "    \n",
    "    if abs(func(x)) >= epsilon:\n",
    "        print(\"Iteration Failed\")"
   ]
  },
  {
   "cell_type": "markdown",
   "metadata": {},
   "source": [
    "## Question 3"
   ]
  },
  {
   "cell_type": "code",
   "execution_count": 20,
   "metadata": {},
   "outputs": [
    {
     "name": "stdout",
     "output_type": "stream",
     "text": [
      "Found root in 9 iterations\n",
      "1.465571232470246\n",
      "Found root in 26 iterations\n",
      "1.4655712376690906\n"
     ]
    }
   ],
   "source": [
    "print(newton(f, df, 10))\n",
    "print(newton(f, df, -10))"
   ]
  },
  {
   "cell_type": "code",
   "execution_count": 21,
   "metadata": {},
   "outputs": [
    {
     "name": "stdout",
     "output_type": "stream",
     "text": [
      "Found root in 9 iterations\n",
      "1.465571232470246\n",
      "Found root in 27 iterations\n",
      "1.465571231876768\n"
     ]
    }
   ],
   "source": [
    "print(newton(f, df, 10, epsilon = 1e-8, max_iter = 100))\n",
    "print(newton(f, df, -10, epsilon = 1e-8, max_iter = 100))"
   ]
  },
  {
   "cell_type": "markdown",
   "metadata": {},
   "source": [
    "Convergence still occurs and approximately the same number of iterations as the original epslion with only slight more in the case f."
   ]
  }
 ],
 "metadata": {
  "interpreter": {
   "hash": "3432db5fea09ff1ef72124350953bc61ae8d7f3417423e2593e70c12cd821ff0"
  },
  "kernelspec": {
   "display_name": "Python 3.9.7 ('base')",
   "language": "python",
   "name": "python3"
  },
  "language_info": {
   "codemirror_mode": {
    "name": "ipython",
    "version": 3
   },
   "file_extension": ".py",
   "mimetype": "text/x-python",
   "name": "python",
   "nbconvert_exporter": "python",
   "pygments_lexer": "ipython3",
   "version": "3.9.7"
  },
  "orig_nbformat": 4
 },
 "nbformat": 4,
 "nbformat_minor": 2
}
